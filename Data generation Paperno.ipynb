{
 "cells": [
  {
   "cell_type": "code",
   "execution_count": 1,
   "metadata": {},
   "outputs": [],
   "source": [
    "#Denis Paperno, 2018-2020\n",
    "#Code for generating interpreted languages with 'personal relations' interpretation\n",
    "\n",
    "from collections import defaultdict\n",
    "import random\n",
    "\n",
    "'''List of reserved characters\n",
    "\n",
    "at least at the level of logical form the basic elements of the language are encoded \n",
    "as characters. Some characters are reserved for relation names or grammatical words'''\n",
    "reserved_chars=['p','f','e','c','t','o','s']\n",
    "\n",
    "def newUniverse(n):\n",
    "\t\"\"\"generate a list of n names - characters outside of the reserved list\"\"\"\n",
    "\tz=[]\n",
    "\ti=ord('a')\n",
    "\t#add entity names to the list starting from 'a'\n",
    "\twhile len(z)<n:\n",
    "\t\tch=chr(i)\n",
    "\t\tif ch not in reserved_chars:\n",
    "\t\t\tz.append(ch)\n",
    "\t\ti+=1\n",
    "\treturn z\n",
    "\n",
    "class InterpretedLanguage:\n",
    "    \"\"\"InterpretedLanguage class of sets of interpreted strings\n",
    "\n",
    "    Initialized with rel_num relations (up to 4) and 2*num_pairs entities.\n",
    "    For convenience of forming symmetric relations, there is always an even number\n",
    "    of entities.\"\"\"\n",
    "    def __init__(self, rel_num,num_pairs):\n",
    "        if rel_num+3>len(reserved_chars): raise(ValueError)\n",
    "        self.rel=reserved_chars[:rel_num]\n",
    "        names=newUniverse(num_pairs*2)\n",
    "        #friend relation is initialized randomly as a symmetric relation\n",
    "        random.shuffle(names)\n",
    "        self.friend={}\n",
    "        for i in range(num_pairs):\n",
    "            self.friend[names[2*i]]=names[2*i+1]\n",
    "            self.friend[names[2*i+1]]=names[2*i]\n",
    "        random.shuffle(names)\n",
    "        #enemy relation is initialized randomly as a symmetric relation\n",
    "        self.enemy={}\n",
    "        for i in range(num_pairs):\n",
    "            self.enemy[names[2*i]]=names[2*i+1]\n",
    "            self.enemy[names[2*i+1]]=names[2*i]\n",
    "        #parent relation is initialized randomly as a cycle involving all entities\n",
    "        random.shuffle(names)\n",
    "        self.parent={}\n",
    "        for i in range(len(names)):\n",
    "             self.parent[names[i]]=names[i-1]\n",
    "        #child relation is initialized as the inverse of the parent relation\n",
    "        self.child={}\n",
    "        for i in range(len(names)):\n",
    "             self.child[names[i-1]]=names[i]\n",
    "        self.names=names\n",
    "\n",
    "    def examples(self,i):\n",
    "        '''returns all logical forms of complexity (length) i \n",
    "        \n",
    "        A logical form is a string of relation chars followed by an entity name char'''\n",
    "        if i<=1: ex=self.names\n",
    "        else: ex=[x+y for x in self.rel for y in self.examples(i-1)]\n",
    "        return ex\n",
    "\n",
    "    def interpret(self,s):\n",
    "        \"\"\"interpretation function returns the entity a logical form s describes\"\"\"\n",
    "        assert type(s) is str\n",
    "        assert len(s)>0\n",
    "        if len(s)==1 and s in self.names: return s\n",
    "        elif len(s)>1:\n",
    "            if s[0]=='f': return self.friend[self.interpret(s[1:])]\n",
    "            elif s[0]=='e': return self.enemy[self.interpret(s[1:])]\n",
    "            elif s[0]=='p': return self.parent[self.interpret(s[1:])]\n",
    "            elif s[0]=='c': return self.child[self.interpret(s[1:])]\n",
    "            else: print(s); raise KeyError\n",
    "\n",
    "    def express(self,s,b):\n",
    "        \"\"\"spellout function translating logical form s into a string of word identifiers\n",
    "        \n",
    "        s: logical form\n",
    "        b: branching parameter\"\"\"\n",
    "        if len(s)==1 and s in self.names: return s\n",
    "        elif len(s)>1:\n",
    "            r=s[0]\n",
    "            if r in self.rel:\n",
    "                o=random.choice(b)\n",
    "                if o=='r': return 't'+r+'o'+self.express(s[1:],b) \n",
    "                elif o=='l': return self.express(s[1:],b)+'s'+r\n",
    "                else: raise(KeyError)\n",
    "            else: raise(KeyError)\n",
    "        else: raise(KeyError)\n",
    "\n",
    "    def lines(self,data,b):\n",
    "        \"\"\"Interprets and expresses logical forms from a list\n",
    "        \n",
    "        data: list of logical forms\n",
    "        b: branching parameter\n",
    "        Returns a mapping from entities to lists of strings expressing them, based on a list\n",
    "        of logical forms data\"\"\"\n",
    "        l=defaultdict(list)\n",
    "        for d in data:\n",
    "            l[self.interpret(d)].append(self.express(d,b))\n",
    "        return l\n",
    "\n",
    "    def memorization_data(self):\n",
    "        \"\"\"returns all logical forms of complexity 1 and 2\"\"\"\n",
    "        return self.examples(1)+self.examples(2)\n",
    "\n",
    "    def allexamples(self, b,complexity=2,min_complexity=1):\n",
    "        \"\"\"returns a list of (string,referent) pairs for all logical forms \n",
    "        \n",
    "        Parameters define breanching and complexity range:\n",
    "        b: branching parameter\n",
    "        min_complexity: minimal logical form complexity (defaults to a single name)\n",
    "        complexity: max number of relation elements in a logical form\"\"\"\n",
    "        z=[]\n",
    "        sample = []\n",
    "        for c in range(min_complexity,complexity+1): sample+=self.examples(c)\n",
    "        for e in sample:\n",
    "            line=self.express(e,b)\n",
    "            category=self.interpret(e)\n",
    "            z.append((line,category))\n",
    "        return z\n",
    "\n",
    "    def randomexamples(self, k, b,complexity=3,min_complexity=1):\n",
    "        \"returns k random examples of complexity up to a given value\"\n",
    "        z=[]\n",
    "        sample = []\n",
    "        for c in range(complexity): sample+=self.examples(c)\n",
    "        for i in range(min_complexity,k):\n",
    "            e=random.choice(sample)\n",
    "            line=self.express(e,b)\n",
    "            category=self.interpret(e)\n",
    "            z.append((line,category))\n",
    "        return z\n"
   ]
  },
  {
   "cell_type": "code",
   "execution_count": 2,
   "metadata": {},
   "outputs": [
    {
     "data": {
      "text/plain": [
       "['a', 'b', 'd', 'g', 'h']"
      ]
     },
     "execution_count": 2,
     "metadata": {},
     "output_type": "execute_result"
    }
   ],
   "source": [
    "newUniverse(5)"
   ]
  },
  {
   "cell_type": "code",
   "execution_count": 3,
   "metadata": {},
   "outputs": [],
   "source": [
    "test = InterpretedLanguage(rel_num=4, num_pairs=6)"
   ]
  },
  {
   "cell_type": "code",
   "execution_count": 12,
   "metadata": {},
   "outputs": [
    {
     "data": {
      "text/plain": [
       "'pppk'"
      ]
     },
     "execution_count": 12,
     "metadata": {},
     "output_type": "execute_result"
    }
   ],
   "source": [
    "example = test.examples(4)\n",
    "example[4]\n",
    "# example"
   ]
  },
  {
   "cell_type": "code",
   "execution_count": 5,
   "metadata": {},
   "outputs": [
    {
     "data": {
      "text/plain": [
       "{'m': 'n',\n",
       " 'n': 'm',\n",
       " 'q': 'b',\n",
       " 'b': 'q',\n",
       " 'h': 'd',\n",
       " 'd': 'h',\n",
       " 'i': 'l',\n",
       " 'l': 'i',\n",
       " 'j': 'a',\n",
       " 'a': 'j',\n",
       " 'g': 'k',\n",
       " 'k': 'g'}"
      ]
     },
     "execution_count": 5,
     "metadata": {},
     "output_type": "execute_result"
    }
   ],
   "source": [
    "test.enemy"
   ]
  },
  {
   "cell_type": "code",
   "execution_count": 6,
   "metadata": {},
   "outputs": [
    {
     "data": {
      "text/plain": [
       "['i',\n",
       " 'g',\n",
       " 'n',\n",
       " 'l',\n",
       " 'k',\n",
       " 'h',\n",
       " 'j',\n",
       " 'm',\n",
       " 'b',\n",
       " 'q',\n",
       " 'd',\n",
       " 'a',\n",
       " 'pi',\n",
       " 'pg',\n",
       " 'pn',\n",
       " 'pl',\n",
       " 'pk',\n",
       " 'ph',\n",
       " 'pj',\n",
       " 'pm',\n",
       " 'pb',\n",
       " 'pq',\n",
       " 'pd',\n",
       " 'pa',\n",
       " 'fi',\n",
       " 'fg',\n",
       " 'fn',\n",
       " 'fl',\n",
       " 'fk',\n",
       " 'fh',\n",
       " 'fj',\n",
       " 'fm',\n",
       " 'fb',\n",
       " 'fq',\n",
       " 'fd',\n",
       " 'fa',\n",
       " 'ei',\n",
       " 'eg',\n",
       " 'en',\n",
       " 'el',\n",
       " 'ek',\n",
       " 'eh',\n",
       " 'ej',\n",
       " 'em',\n",
       " 'eb',\n",
       " 'eq',\n",
       " 'ed',\n",
       " 'ea',\n",
       " 'ci',\n",
       " 'cg',\n",
       " 'cn',\n",
       " 'cl',\n",
       " 'ck',\n",
       " 'ch',\n",
       " 'cj',\n",
       " 'cm',\n",
       " 'cb',\n",
       " 'cq',\n",
       " 'cd',\n",
       " 'ca']"
      ]
     },
     "execution_count": 6,
     "metadata": {},
     "output_type": "execute_result"
    }
   ],
   "source": [
    "test.memorization_data()"
   ]
  },
  {
   "cell_type": "code",
   "execution_count": 7,
   "metadata": {},
   "outputs": [
    {
     "data": {
      "text/plain": [
       "'ccca'"
      ]
     },
     "execution_count": 7,
     "metadata": {},
     "output_type": "execute_result"
    }
   ],
   "source": [
    "example[-1]"
   ]
  },
  {
   "cell_type": "code",
   "execution_count": 8,
   "metadata": {
    "scrolled": true
   },
   "outputs": [
    {
     "data": {
      "text/plain": [
       "'tpotpotpoi'"
      ]
     },
     "execution_count": 8,
     "metadata": {},
     "output_type": "execute_result"
    }
   ],
   "source": [
    "test.express(s = example[0],b='r')"
   ]
  },
  {
   "cell_type": "code",
   "execution_count": 13,
   "metadata": {},
   "outputs": [
    {
     "data": {
      "text/plain": [
       "defaultdict(list,\n",
       "            {'q': ['tpotpotpoi'],\n",
       "             'd': ['tpotpotpog'],\n",
       "             'a': ['tpotpotpon'],\n",
       "             'i': ['tpotpotpol']})"
      ]
     },
     "execution_count": 13,
     "metadata": {},
     "output_type": "execute_result"
    }
   ],
   "source": [
    "test.lines(example[:4],b='r')"
   ]
  },
  {
   "cell_type": "code",
   "execution_count": 15,
   "metadata": {},
   "outputs": [
    {
     "data": {
      "text/plain": [
       "[('i', 'i'),\n",
       " ('g', 'g'),\n",
       " ('n', 'n'),\n",
       " ('l', 'l'),\n",
       " ('k', 'k'),\n",
       " ('h', 'h'),\n",
       " ('j', 'j'),\n",
       " ('m', 'm'),\n",
       " ('b', 'b'),\n",
       " ('q', 'q'),\n",
       " ('d', 'd'),\n",
       " ('a', 'a'),\n",
       " ('isp', 'a'),\n",
       " ('gsp', 'i'),\n",
       " ('nsp', 'g'),\n",
       " ('lsp', 'n'),\n",
       " ('ksp', 'l'),\n",
       " ('hsp', 'k'),\n",
       " ('jsp', 'h'),\n",
       " ('msp', 'j'),\n",
       " ('bsp', 'm'),\n",
       " ('qsp', 'b'),\n",
       " ('dsp', 'q'),\n",
       " ('asp', 'd'),\n",
       " ('isf', 'j'),\n",
       " ('gsf', 'q'),\n",
       " ('nsf', 'k'),\n",
       " ('lsf', 'a'),\n",
       " ('ksf', 'n'),\n",
       " ('hsf', 'b'),\n",
       " ('jsf', 'i'),\n",
       " ('msf', 'd'),\n",
       " ('bsf', 'h'),\n",
       " ('qsf', 'g'),\n",
       " ('dsf', 'm'),\n",
       " ('asf', 'l'),\n",
       " ('ise', 'l'),\n",
       " ('gse', 'k'),\n",
       " ('nse', 'm'),\n",
       " ('lse', 'i'),\n",
       " ('kse', 'g'),\n",
       " ('hse', 'd'),\n",
       " ('jse', 'a'),\n",
       " ('mse', 'n'),\n",
       " ('bse', 'q'),\n",
       " ('qse', 'b'),\n",
       " ('dse', 'h'),\n",
       " ('ase', 'j'),\n",
       " ('isc', 'g'),\n",
       " ('gsc', 'n'),\n",
       " ('nsc', 'l'),\n",
       " ('lsc', 'k'),\n",
       " ('ksc', 'h'),\n",
       " ('hsc', 'j'),\n",
       " ('jsc', 'm'),\n",
       " ('msc', 'b'),\n",
       " ('bsc', 'q'),\n",
       " ('qsc', 'd'),\n",
       " ('dsc', 'a'),\n",
       " ('asc', 'i')]"
      ]
     },
     "execution_count": 15,
     "metadata": {},
     "output_type": "execute_result"
    }
   ],
   "source": [
    "test.allexamples(b='l')"
   ]
  },
  {
   "cell_type": "code",
   "execution_count": 11,
   "metadata": {},
   "outputs": [
    {
     "data": {
      "text/plain": [
       "[('ksf', 'n'), ('lsc', 'k'), ('msc', 'b')]"
      ]
     },
     "execution_count": 11,
     "metadata": {},
     "output_type": "execute_result"
    }
   ],
   "source": [
    "test.randomexamples(k=4, b='l',complexity=3,min_complexity=1)"
   ]
  }
 ],
 "metadata": {
  "kernelspec": {
   "display_name": "Python 3",
   "language": "python",
   "name": "python3"
  },
  "language_info": {
   "codemirror_mode": {
    "name": "ipython",
    "version": 3
   },
   "file_extension": ".py",
   "mimetype": "text/x-python",
   "name": "python",
   "nbconvert_exporter": "python",
   "pygments_lexer": "ipython3",
   "version": "3.7.6"
  }
 },
 "nbformat": 4,
 "nbformat_minor": 2
}
